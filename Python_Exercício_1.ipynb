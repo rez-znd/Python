{
  "nbformat": 4,
  "nbformat_minor": 0,
  "metadata": {
    "colab": {
      "provenance": [],
      "authorship_tag": "ABX9TyNzLH47MjlIeZ8/8mSo3YpG",
      "include_colab_link": true
    },
    "kernelspec": {
      "name": "python3",
      "display_name": "Python 3"
    },
    "language_info": {
      "name": "python"
    }
  },
  "cells": [
    {
      "cell_type": "markdown",
      "metadata": {
        "id": "view-in-github",
        "colab_type": "text"
      },
      "source": [
        "<a href=\"https://colab.research.google.com/github/rez-znd/Python/blob/main/Python_Exerc%C3%ADcio_1.ipynb\" target=\"_parent\"><img src=\"https://colab.research.google.com/assets/colab-badge.svg\" alt=\"Open In Colab\"/></a>"
      ]
    },
    {
      "cell_type": "code",
      "execution_count": 1,
      "metadata": {
        "colab": {
          "base_uri": "https://localhost:8080/"
        },
        "id": "mcE1VvaS1P1z",
        "outputId": "75f6d2dc-fb4c-4af8-fb09-0b12c78b3c62"
      },
      "outputs": [
        {
          "output_type": "stream",
          "name": "stdout",
          "text": [
            "insira a temperatura em Fahrenheit: 50\n",
            "Conversão para Celsius:  10.0\n"
          ]
        }
      ],
      "source": [
        "#comando para pedir ao usuário a temperatura\n",
        "fahren = float(input(\"insira a temperatura em Fahrenheit: \"))\n",
        "\n",
        "#cálculo da conversão de fahrenheit para celsius\n",
        "print(\"Conversão para Celsius: \", (fahren - 32)/1.8)"
      ]
    }
  ]
}